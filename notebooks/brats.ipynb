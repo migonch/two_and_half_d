{
 "cells": [
  {
   "cell_type": "code",
   "execution_count": 1,
   "metadata": {},
   "outputs": [],
   "source": [
    "%load_ext autoreload\n",
    "%autoreload 2\n",
    "\n",
    "import os\n",
    "from pathlib import Path\n",
    "\n",
    "import numpy as np\n",
    "import matplotlib.pyplot as plt\n",
    "\n",
    "from dpipe.im.visualize import slice3d\n",
    "\n",
    "from two_and_half_d.dataset import BraTS2013"
   ]
  },
  {
   "cell_type": "code",
   "execution_count": 2,
   "metadata": {},
   "outputs": [],
   "source": [
    "root =  # path to the root folder with BraTS-2013 dataset"
   ]
  },
  {
   "cell_type": "code",
   "execution_count": 3,
   "metadata": {},
   "outputs": [],
   "source": [
    "ds = BraTS2013(root)"
   ]
  },
  {
   "cell_type": "code",
   "execution_count": 4,
   "metadata": {},
   "outputs": [
    {
     "data": {
      "text/plain": [
       "30"
      ]
     },
     "execution_count": 4,
     "metadata": {},
     "output_type": "execute_result"
    }
   ],
   "source": [
    "len(ds.ids)"
   ]
  },
  {
   "cell_type": "code",
   "execution_count": 5,
   "metadata": {},
   "outputs": [
    {
     "data": {
      "text/plain": [
       "('LG_0008',\n",
       " 'LG_0004',\n",
       " 'LG_0006',\n",
       " 'LG_0013',\n",
       " 'LG_0014',\n",
       " 'LG_0015',\n",
       " 'LG_0001',\n",
       " 'LG_0002',\n",
       " 'LG_0011',\n",
       " 'LG_0012',\n",
       " 'HG_0007',\n",
       " 'HG_0008',\n",
       " 'HG_0009',\n",
       " 'HG_0003',\n",
       " 'HG_0004',\n",
       " 'HG_0005',\n",
       " 'HG_0006',\n",
       " 'HG_0013',\n",
       " 'HG_0014',\n",
       " 'HG_0015',\n",
       " 'HG_0001',\n",
       " 'HG_0002',\n",
       " 'HG_0024',\n",
       " 'HG_0010',\n",
       " 'HG_0025',\n",
       " 'HG_0011',\n",
       " 'HG_0026',\n",
       " 'HG_0012',\n",
       " 'HG_0027',\n",
       " 'HG_0022')"
      ]
     },
     "execution_count": 5,
     "metadata": {},
     "output_type": "execute_result"
    }
   ],
   "source": [
    "ds.ids"
   ]
  },
  {
   "cell_type": "code",
   "execution_count": 7,
   "metadata": {},
   "outputs": [],
   "source": [
    "i = np.random.choice(ds.ids)\n",
    "img = ds.load_image(i)\n",
    "gt = ds.load_gt(i)"
   ]
  },
  {
   "cell_type": "code",
   "execution_count": 8,
   "metadata": {},
   "outputs": [
    {
     "data": {
      "application/vnd.jupyter.widget-view+json": {
       "model_id": "81be8b3339e142a6a4e1c8cb2185a397",
       "version_major": 2,
       "version_minor": 0
      },
      "text/plain": [
       "interactive(children=(IntSlider(value=0, continuous_update=False, description='idx', max=229), Output()), _dom…"
      ]
     },
     "metadata": {},
     "output_type": "display_data"
    }
   ],
   "source": [
    "slice3d(*img, gt)"
   ]
  }
 ],
 "metadata": {
  "kernelspec": {
   "display_name": "Python 3",
   "language": "python",
   "name": "python3"
  },
  "language_info": {
   "codemirror_mode": {
    "name": "ipython",
    "version": 3
   },
   "file_extension": ".py",
   "mimetype": "text/x-python",
   "name": "python",
   "nbconvert_exporter": "python",
   "pygments_lexer": "ipython3",
   "version": "3.7.6"
  }
 },
 "nbformat": 4,
 "nbformat_minor": 4
}
